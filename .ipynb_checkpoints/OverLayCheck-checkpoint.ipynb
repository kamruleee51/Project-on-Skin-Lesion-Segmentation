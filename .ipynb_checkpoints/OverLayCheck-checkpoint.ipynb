{
 "cells": [
  {
   "cell_type": "code",
   "execution_count": null,
   "metadata": {
    "collapsed": true
   },
   "outputs": [],
   "source": [
    "import os,glob,cv2\n",
    "import matplotlib.pyplot as plt\n",
    "# %matplotlib inline"
   ]
  },
  {
   "cell_type": "code",
   "execution_count": null,
   "metadata": {
    "collapsed": true
   },
   "outputs": [],
   "source": [
    "CurrentDirectory=os.getcwd()\n",
    "TestImagePath=CurrentDirectory+'/data/TestImage/'\n",
    "TestSegImagePath=CurrentDirectory+'/data/TestGT/'\n",
    "output_path=CurrentDirectory+'/prediction/'"
   ]
  },
  {
   "cell_type": "code",
   "execution_count": null,
   "metadata": {},
   "outputs": [],
   "source": [
    "OR = glob.glob(TestImagePath+\"*.png\")\n",
    "OR.sort()\n",
    "print(OR)\n",
    "GT = glob.glob(TestSegImagePath+\"*.png\")\n",
    "GT.sort()\n",
    "print(GT)\n",
    "\n",
    "\n",
    "\n",
    "# print(OR[0])\n",
    "# img=cv2.imread(OR[0],1)\n",
    "# plt.figure()\n",
    "# plt.imshow(img)\n",
    "# resized_image = cv2.resize(img, (224, 224)) \n",
    "# plt.figure()\n",
    "# plt.imshow(resized_image)"
   ]
  },
  {
   "cell_type": "code",
   "execution_count": null,
   "metadata": {},
   "outputs": [],
   "source": [
    "# Total Number of images should be same as the total number of segmented Mask\n",
    "assert len(OR) == len(GT) \n",
    "i=5000\n",
    "# Checking that every image has their corresponding segmented mask.\n",
    "for im , seg in zip(OR,GT):\n",
    "    Image, _ = os.path.splitext(im)\n",
    "    GT,_     = os.path.splitext(seg)\n",
    "    \n",
    "    assert(Image[-4:]   ==  GT[-4:]  )\n",
    "    \n",
    "    imOR=cv2.imread(im,1)\n",
    "\n",
    "    imOR = cv2.resize(imOR, (224, 224)) \n",
    "\n",
    "    \n",
    "    imGT=cv2.imread(seg,0)\n",
    "\n",
    "    imGT = cv2.resize(imGT, (224, 224)) \n",
    "\n",
    "    tttt=cv2.merge((imGT,imGT,imGT))\n",
    "    tttt[:,:,0]=0\n",
    "    tttt[:,:,2]=0\n",
    "\n",
    "    outName=output_path+str(i)+'.png'\n",
    "    overlay = cv2.addWeighted(tttt,0.2,imOR,0.8,0)\n",
    "    cv2.imwrite(  outName , overlay )\n",
    "    \n",
    "    i=i+1\n",
    "\n"
   ]
  },
  {
   "cell_type": "code",
   "execution_count": null,
   "metadata": {},
   "outputs": [],
   "source": [
    "\n"
   ]
  },
  {
   "cell_type": "code",
   "execution_count": null,
   "metadata": {
    "collapsed": true
   },
   "outputs": [],
   "source": []
  },
  {
   "cell_type": "code",
   "execution_count": null,
   "metadata": {
    "collapsed": true
   },
   "outputs": [],
   "source": []
  }
 ],
 "metadata": {
  "kernelspec": {
   "display_name": "Python 3",
   "language": "python",
   "name": "python3"
  },
  "language_info": {
   "codemirror_mode": {
    "name": "ipython",
    "version": 3
   },
   "file_extension": ".py",
   "mimetype": "text/x-python",
   "name": "python",
   "nbconvert_exporter": "python",
   "pygments_lexer": "ipython3",
   "version": "3.6.3"
  }
 },
 "nbformat": 4,
 "nbformat_minor": 2
}
