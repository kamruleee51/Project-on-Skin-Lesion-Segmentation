{
 "cells": [
  {
   "cell_type": "markdown",
   "metadata": {},
   "source": [
    "## Import all the required packages and library "
   ]
  },
  {
   "cell_type": "code",
   "execution_count": 23,
   "metadata": {
    "collapsed": true
   },
   "outputs": [],
   "source": [
    "import numpy as np\n",
    "import os\n",
    "import cv2\n",
    "import glob\n",
    "import itertools\n",
    "import glob\n",
    "import random\n",
    "import matplotlib.pyplot as plt\n",
    "import keras.backend as K\n",
    "from keras.models import *\n",
    "from keras.layers import *\n",
    "from keras.callbacks import EarlyStopping, LearningRateScheduler\n",
    "from keras.callbacks import ModelCheckpoint \n",
    "from keras.optimizers import Adam\n",
    "from keras.models import model_from_yaml\n",
    "from keras.applications.vgg16 import preprocess_input, VGG16\n",
    "from keras.utils import plot_model"
   ]
  },
  {
   "cell_type": "markdown",
   "metadata": {},
   "source": [
    "## Pre-process the surgical tool images to fit to the Network "
   ]
  },
  {
   "cell_type": "code",
   "execution_count": 24,
   "metadata": {
    "collapsed": true
   },
   "outputs": [],
   "source": [
    "def getImage(ImagePath, Width, Height):\n",
    "    \n",
    "    if ImagePath is not None:\n",
    "        img = cv2.imread(ImagePath, 1)\n",
    "        img = cv2.resize(img, ( Width , Height ))\n",
    "        img = img.astype(np.float32)\n",
    "        \n",
    "#         vgg = preprocess_input(img)\n",
    "        hsv = cv2.cvtColor(img, cv2.COLOR_BGR2HSV)\n",
    "        L,A,B= cv2.split(cv2.cvtColor(img, cv2.COLOR_BGR2LAB))\n",
    "        \n",
    "        img_merge= np.dstack((img, hsv, L))\n",
    "        \n",
    "#         img_merge = np.rollaxis(img_merge, 2, 0)\n",
    "        \n",
    "        return img_merge\n",
    "\n"
   ]
  },
  {
   "cell_type": "markdown",
   "metadata": {},
   "source": [
    "## Get the segmentation Mask"
   ]
  },
  {
   "cell_type": "code",
   "execution_count": 25,
   "metadata": {
    "collapsed": true
   },
   "outputs": [],
   "source": [
    "def getSegmentationMask(SegImagePath, numberClass,  Width, Height):\n",
    "    seg_labels = np.zeros((Height, Width, numberClass))\n",
    "    if SegImagePath is not None:\n",
    "        img = cv2.imread(SegImagePath, 1)\n",
    "        img = cv2.resize(img, ( Width, Height))\n",
    "        img = img[:, :, 0]\n",
    "        img = img/img.max()\n",
    "\n",
    "        for class_label in range(numberClass):\n",
    "            seg_labels[:, :, class_label] = (img == class_label ).astype(int)\n",
    "        seg_labels = np.reshape(seg_labels, ( Width*Height , numberClass))\n",
    "        return seg_labels"
   ]
  },
  {
   "cell_type": "markdown",
   "metadata": {},
   "source": [
    "## Image Generator for the fit_generator"
   ]
  },
  {
   "cell_type": "code",
   "execution_count": 26,
   "metadata": {
    "collapsed": true
   },
   "outputs": [],
   "source": [
    "def Generator(ImagesPath, SegImagePath, batch_size, numberClass, Height, Width):\n",
    "    assert ImagesPath[-1] == '/' # Image Path should be ended with /.\n",
    "    assert SegImagePath[-1] == '/' # Image Path should be ended with /.\n",
    "    \n",
    "    images = glob.glob(ImagesPath+\"*.jpg\")+glob.glob(ImagesPath+\"*.png\")+glob.glob(ImagesPath+\"*.jpeg\")\n",
    "    images.sort() # Sort the images \n",
    "    \n",
    "    mask  = glob.glob(SegImagePath+\"*.jpg\")+glob.glob(SegImagePath+\"*.png\")+glob.glob(SegImagePath+\"*.jpeg\")\n",
    "    mask.sort() # Sort the images\n",
    "    \n",
    "    # Total Number of images should be same as the total number of segmented Mask\n",
    "    assert len(images) == len(mask) \n",
    "\n",
    "    \n",
    "    # Checking that every image has their corresponding segmented mask.\n",
    "    for im , seg in zip(images,mask):\n",
    "        Image, _ = os.path.splitext(im)\n",
    "        GT,_     = os.path.splitext(seg)\n",
    "        assert(Image[-4:]   ==  GT[-4:] )\n",
    "\n",
    "    zipped = itertools.cycle( zip(images,mask) )\n",
    "        \n",
    "    while True:\n",
    "        ImageArray = []\n",
    "        TargetArray = []\n",
    "        for _ in range( batch_size) :\n",
    "            im , seg = next(zipped)\n",
    "            ImageArray.append(getImage(im, Width, Height))\n",
    "            TargetArray.append(getSegmentationMask(seg, numberClass, Height, Width))\n",
    "            yield np.array(ImageArray), np.array(TargetArray)"
   ]
  },
  {
   "cell_type": "markdown",
   "metadata": {},
   "source": [
    "## Load the Train and Test image Directory"
   ]
  },
  {
   "cell_type": "code",
   "execution_count": 27,
   "metadata": {
    "collapsed": true
   },
   "outputs": [],
   "source": [
    "CurrentDirectory=os.getcwd()\n",
    "TrainImagePath=CurrentDirectory+'/data/TrainImage2/'\n",
    "TrainSegImagePath=CurrentDirectory+'/data/TrainGT2/'\n",
    "TestImagePath=CurrentDirectory+'/data/TestImage2/'\n",
    "TestSegImagePath=CurrentDirectory+'/data/TestGT2/'"
   ]
  },
  {
   "cell_type": "markdown",
   "metadata": {},
   "source": [
    "## Create Model"
   ]
  },
  {
   "cell_type": "code",
   "execution_count": 28,
   "metadata": {
    "collapsed": true
   },
   "outputs": [],
   "source": [
    "def UNet(nClasses, input_height, input_width):\n",
    "    assert input_height % 32 == 0\n",
    "    assert input_width % 32 == 0\n",
    "\n",
    "    img_input = Input(shape=(input_height, input_width, 7))\n",
    "\n",
    "    vggBaseLayer = VGG16( weights=None, include_top=False, input_tensor=img_input)\n",
    "\n",
    "    \n",
    "    deconv_1 = UpSampling2D((2, 2))(vggBaseLayer.output)\n",
    "    deconv_1 = concatenate([vggBaseLayer.get_layer(name=\"block4_pool\").output, deconv_1], axis=-1)\n",
    "    deconv_1 = Conv2D(512, (3, 3), padding=\"same\")(deconv_1)\n",
    "    deconv_1 = BatchNormalization()(deconv_1)\n",
    "\n",
    "    deconv_2 = UpSampling2D((2, 2))(deconv_1)\n",
    "    deconv_2 = concatenate([vggBaseLayer.get_layer(name=\"block3_pool\").output, deconv_2], axis=-1)\n",
    "    deconv_2 = Conv2D(256, (3, 3), padding=\"same\")(deconv_2)\n",
    "    deconv_2 = BatchNormalization()(deconv_2)\n",
    "\n",
    "    deconv_3 = UpSampling2D((2, 2))(deconv_2)\n",
    "    deconv_3 = concatenate([vggBaseLayer.get_layer(name=\"block2_pool\").output, deconv_3], axis=-1)\n",
    "    deconv_3 = Conv2D(128, (3, 3), padding=\"same\")(deconv_3)\n",
    "    deconv_3 = BatchNormalization()(deconv_3)\n",
    "\n",
    "    deconv_4 = UpSampling2D((2, 2))(deconv_3)\n",
    "    deconv_4 = concatenate([vggBaseLayer.get_layer(name=\"block1_pool\").output, deconv_4], axis=-1)\n",
    "    deconv_4 = Conv2D(64, (3, 3), padding=\"same\")(deconv_4)\n",
    "    deconv_4 = BatchNormalization()(deconv_4)\n",
    "\n",
    "\n",
    "    deconv_5 = UpSampling2D((2, 2))(deconv_4)\n",
    "    deconv_5 = Conv2D(64, (3, 3), padding=\"same\")(deconv_5)\n",
    "    deconv_5 = BatchNormalization()(deconv_5)\n",
    "\n",
    "    deconv_6 = Conv2D(nClasses, (1, 1), padding=\"same\")(deconv_5)\n",
    "    deconv_6 = BatchNormalization()(deconv_6)\n",
    "    deconv_6 = Activation(\"relu\")(deconv_6)\n",
    "\n",
    "    deconv_7 = Reshape((-1, nClasses))(deconv_6)\n",
    "    deconv_7 = Activation(\"softmax\")(deconv_7)\n",
    "\n",
    "    model = Model(inputs=img_input, outputs=deconv_7)\n",
    "    return model"
   ]
  },
  {
   "cell_type": "markdown",
   "metadata": {},
   "source": [
    "## Set all the Hyper-paramters"
   ]
  },
  {
   "cell_type": "code",
   "execution_count": 29,
   "metadata": {
    "collapsed": true
   },
   "outputs": [],
   "source": [
    "numberClass=2\n",
    "\n",
    "Height=320\n",
    "Width=320\n",
    "\n",
    "ChannelNumbers=7\n",
    "\n",
    "optimizer='adam'\n",
    "loss='categorical_crossentropy'\n",
    "metric=['acc']\n",
    "\n",
    "train_batch_size=10\n",
    "test_batch_size=10\n",
    "epochs=300"
   ]
  },
  {
   "cell_type": "markdown",
   "metadata": {},
   "source": [
    "## Load the Imges and create Generator"
   ]
  },
  {
   "cell_type": "code",
   "execution_count": 30,
   "metadata": {
    "collapsed": true
   },
   "outputs": [],
   "source": [
    "TrainGen=Generator(TrainImagePath, TrainSegImagePath,  train_batch_size,  numberClass, Height, Width)\n",
    "numberTrainImages=len(glob.glob(TrainImagePath+\"*.jpg\")+glob.glob(TrainImagePath+\"*.png\")+glob.glob(TrainImagePath+\"*.jpeg\"))\n",
    "\n",
    "TestGen=Generator(TestImagePath, TestSegImagePath,  test_batch_size,  numberClass, Height, Width)\n",
    "numberTestImages=len(glob.glob(TestImagePath+\"*.jpg\")+glob.glob(TestImagePath+\"*.png\")+glob.glob(TestImagePath+\"*.jpeg\"))"
   ]
  },
  {
   "cell_type": "markdown",
   "metadata": {},
   "source": [
    "## Saving and Early stopping of the model"
   ]
  },
  {
   "cell_type": "code",
   "execution_count": 31,
   "metadata": {
    "collapsed": true
   },
   "outputs": [],
   "source": [
    "# I stopped training automagically with EarlyStopping after 10 consecutive epochs without improvement\n",
    "# early_stopping = EarlyStopping(monitor='val_dice_coef', patience=15, verbose=1, mode='max',restore_best_weights=True)\n",
    "\n",
    "\n",
    "modelName='SavedModel/VGGUnetModel'\n",
    "SaveweightName= modelName+'.hdf5'\n",
    "SaveModelName=modelName+'.yaml'\n",
    "\n",
    "SavingbestModel = ModelCheckpoint(SaveweightName, monitor='val_dice_coef', verbose=1, save_best_only=True, mode='max')\n"
   ]
  },
  {
   "cell_type": "markdown",
   "metadata": {},
   "source": [
    "## Customize loss function and optimizer"
   ]
  },
  {
   "cell_type": "code",
   "execution_count": 32,
   "metadata": {
    "collapsed": true
   },
   "outputs": [],
   "source": [
    "def dice_coef(y_true, y_pred):\n",
    "    y_true_f = K.flatten(y_true)\n",
    "    y_pred_f = K.flatten(y_pred)\n",
    "    intersection = K.sum(y_true_f * y_pred_f)\n",
    "    return (2. * intersection + K.epsilon()) / (K.sum(y_true_f) + K.sum(y_pred_f) + K.epsilon())\n",
    "\n",
    "def dice_coef_loss(y_true, y_pred): \n",
    "    return 1-dice_coef(y_true, y_pred) \n",
    "\n",
    "# model.compile(optimizer=optimizer, loss=dice_coef_loss, metrics=[dice_coef])"
   ]
  },
  {
   "cell_type": "markdown",
   "metadata": {},
   "source": [
    "## Compile the Model and Training"
   ]
  },
  {
   "cell_type": "code",
   "execution_count": 33,
   "metadata": {},
   "outputs": [
    {
     "name": "stdout",
     "output_type": "stream",
     "text": [
      "Epoch 1/30\n",
      "\n",
      "Epoch 00001: LearningRateScheduler setting learning rate to 0.001.\n",
      "199/199 [==============================] - 111s 558ms/step - loss: 0.3302 - dice_coef: 0.6698 - val_loss: 0.5005 - val_dice_coef: 0.4995\n",
      "\n",
      "Epoch 00001: val_dice_coef improved from -inf to 0.49952, saving model to SavedModel/VGGUnetModel.hdf5\n",
      "Epoch 2/30\n",
      "\n",
      "Epoch 00002: LearningRateScheduler setting learning rate to 0.0008.\n",
      "199/199 [==============================] - 108s 544ms/step - loss: 0.3108 - dice_coef: 0.6892 - val_loss: 0.2049 - val_dice_coef: 0.7951\n",
      "\n",
      "Epoch 00002: val_dice_coef improved from 0.49952 to 0.79511, saving model to SavedModel/VGGUnetModel.hdf5\n",
      "Epoch 3/30\n",
      "\n",
      "Epoch 00003: LearningRateScheduler setting learning rate to 0.0006400000000000002.\n",
      "199/199 [==============================] - 110s 553ms/step - loss: 0.3167 - dice_coef: 0.6833 - val_loss: 0.7613 - val_dice_coef: 0.2387\n",
      "\n",
      "Epoch 00003: val_dice_coef did not improve from 0.79511\n",
      "Epoch 4/30\n",
      "\n",
      "Epoch 00004: LearningRateScheduler setting learning rate to 0.0005120000000000001.\n",
      "199/199 [==============================] - 121s 607ms/step - loss: 0.2721 - dice_coef: 0.7279 - val_loss: 0.4192 - val_dice_coef: 0.5808\n",
      "\n",
      "Epoch 00004: val_dice_coef did not improve from 0.79511\n",
      "Epoch 5/30\n",
      "\n",
      "Epoch 00005: LearningRateScheduler setting learning rate to 0.0004096000000000001.\n",
      "199/199 [==============================] - 136s 682ms/step - loss: 0.2804 - dice_coef: 0.7196 - val_loss: 0.3138 - val_dice_coef: 0.6862\n",
      "\n",
      "Epoch 00005: val_dice_coef did not improve from 0.79511\n",
      "Epoch 6/30\n",
      "\n",
      "Epoch 00006: LearningRateScheduler setting learning rate to 0.0003276800000000001.\n",
      "199/199 [==============================] - 135s 679ms/step - loss: 0.2861 - dice_coef: 0.7139 - val_loss: 0.3362 - val_dice_coef: 0.6638\n",
      "\n",
      "Epoch 00006: val_dice_coef did not improve from 0.79511\n",
      "Epoch 7/30\n",
      "\n",
      "Epoch 00007: LearningRateScheduler setting learning rate to 0.0002621440000000001.\n",
      "199/199 [==============================] - 137s 688ms/step - loss: 0.2688 - dice_coef: 0.7312 - val_loss: 0.2630 - val_dice_coef: 0.7370\n",
      "\n",
      "Epoch 00007: val_dice_coef did not improve from 0.79511\n",
      "Epoch 8/30\n",
      "\n",
      "Epoch 00008: LearningRateScheduler setting learning rate to 0.0002097152000000001.\n",
      "199/199 [==============================] - 132s 664ms/step - loss: 0.2555 - dice_coef: 0.7445 - val_loss: 0.3643 - val_dice_coef: 0.6357\n",
      "\n",
      "Epoch 00008: val_dice_coef did not improve from 0.79511\n",
      "Epoch 9/30\n",
      "\n",
      "Epoch 00009: LearningRateScheduler setting learning rate to 0.0001677721600000001.\n",
      "199/199 [==============================] - 105s 527ms/step - loss: 0.2561 - dice_coef: 0.7439 - val_loss: 0.2470 - val_dice_coef: 0.7530\n",
      "\n",
      "Epoch 00009: val_dice_coef did not improve from 0.79511\n",
      "Epoch 10/30\n",
      "\n",
      "Epoch 00010: LearningRateScheduler setting learning rate to 0.00013421772800000008.\n",
      "199/199 [==============================] - 179s 900ms/step - loss: 0.2376 - dice_coef: 0.7624 - val_loss: 0.1344 - val_dice_coef: 0.8656\n",
      "\n",
      "Epoch 00010: val_dice_coef improved from 0.79511 to 0.86555, saving model to SavedModel/VGGUnetModel.hdf5\n",
      "Epoch 11/30\n",
      "\n",
      "Epoch 00011: LearningRateScheduler setting learning rate to 0.00010737418240000006.\n",
      "199/199 [==============================] - 106s 534ms/step - loss: 0.2100 - dice_coef: 0.7900 - val_loss: 0.3646 - val_dice_coef: 0.6354\n",
      "\n",
      "Epoch 00011: val_dice_coef did not improve from 0.86555\n",
      "Epoch 12/30\n",
      "\n",
      "Epoch 00012: LearningRateScheduler setting learning rate to 8.589934592000005e-05.\n",
      "199/199 [==============================] - 108s 541ms/step - loss: 0.2094 - dice_coef: 0.7906 - val_loss: 0.2439 - val_dice_coef: 0.7561\n",
      "\n",
      "Epoch 00012: val_dice_coef did not improve from 0.86555\n",
      "Epoch 13/30\n",
      "\n",
      "Epoch 00013: LearningRateScheduler setting learning rate to 6.871947673600005e-05.\n",
      "199/199 [==============================] - 109s 548ms/step - loss: 0.2166 - dice_coef: 0.7834 - val_loss: 0.3102 - val_dice_coef: 0.6898\n",
      "\n",
      "Epoch 00013: val_dice_coef did not improve from 0.86555\n",
      "Epoch 14/30\n",
      "\n",
      "Epoch 00014: LearningRateScheduler setting learning rate to 5.497558138880004e-05.\n",
      "199/199 [==============================] - 120s 601ms/step - loss: 0.1973 - dice_coef: 0.8027 - val_loss: 0.3449 - val_dice_coef: 0.6551\n",
      "\n",
      "Epoch 00014: val_dice_coef did not improve from 0.86555\n",
      "Epoch 15/30\n",
      "\n",
      "Epoch 00015: LearningRateScheduler setting learning rate to 4.398046511104004e-05.\n",
      "199/199 [==============================] - 138s 691ms/step - loss: 0.2157 - dice_coef: 0.7843 - val_loss: 0.3110 - val_dice_coef: 0.6890\n",
      "\n",
      "Epoch 00015: val_dice_coef did not improve from 0.86555\n",
      "Epoch 16/30\n",
      "\n",
      "Epoch 00016: LearningRateScheduler setting learning rate to 3.518437208883203e-05.\n",
      "199/199 [==============================] - 137s 690ms/step - loss: 0.2361 - dice_coef: 0.7639 - val_loss: 0.2937 - val_dice_coef: 0.7063\n",
      "\n",
      "Epoch 00016: val_dice_coef did not improve from 0.86555\n",
      "Epoch 17/30\n",
      "\n",
      "Epoch 00017: LearningRateScheduler setting learning rate to 2.8147497671065623e-05.\n",
      "199/199 [==============================] - 140s 703ms/step - loss: 0.2378 - dice_coef: 0.7622 - val_loss: 0.3003 - val_dice_coef: 0.6997\n",
      "\n",
      "Epoch 00017: val_dice_coef did not improve from 0.86555\n",
      "Epoch 18/30\n",
      "\n",
      "Epoch 00018: LearningRateScheduler setting learning rate to 2.2517998136852502e-05.\n",
      "199/199 [==============================] - 132s 663ms/step - loss: 0.2465 - dice_coef: 0.7535 - val_loss: 0.2952 - val_dice_coef: 0.7048\n",
      "\n",
      "Epoch 00018: val_dice_coef did not improve from 0.86555\n",
      "Epoch 19/30\n",
      "\n",
      "Epoch 00019: LearningRateScheduler setting learning rate to 1.8014398509482003e-05.\n",
      "199/199 [==============================] - 105s 527ms/step - loss: 0.2321 - dice_coef: 0.7679 - val_loss: 0.2279 - val_dice_coef: 0.7721\n",
      "\n",
      "Epoch 00019: val_dice_coef did not improve from 0.86555\n",
      "Epoch 20/30\n",
      "\n",
      "Epoch 00020: LearningRateScheduler setting learning rate to 1.4411518807585603e-05.\n",
      "199/199 [==============================] - 173s 869ms/step - loss: 0.2255 - dice_coef: 0.7745 - val_loss: 0.1565 - val_dice_coef: 0.8435\n",
      "\n",
      "Epoch 00020: val_dice_coef did not improve from 0.86555\n",
      "Epoch 21/30\n",
      "\n",
      "Epoch 00021: LearningRateScheduler setting learning rate to 1.1529215046068483e-05.\n",
      "199/199 [==============================] - 106s 530ms/step - loss: 0.1984 - dice_coef: 0.8016 - val_loss: 0.3301 - val_dice_coef: 0.6699\n",
      "\n",
      "Epoch 00021: val_dice_coef did not improve from 0.86555\n",
      "Epoch 22/30\n",
      "\n",
      "Epoch 00022: LearningRateScheduler setting learning rate to 9.223372036854787e-06.\n",
      "199/199 [==============================] - 108s 541ms/step - loss: 0.2199 - dice_coef: 0.7801 - val_loss: 0.1954 - val_dice_coef: 0.8046\n",
      "\n",
      "Epoch 00022: val_dice_coef did not improve from 0.86555\n",
      "Epoch 23/30\n",
      "\n",
      "Epoch 00023: LearningRateScheduler setting learning rate to 7.37869762948383e-06.\n",
      "199/199 [==============================] - 110s 551ms/step - loss: 0.2078 - dice_coef: 0.7922 - val_loss: 0.2934 - val_dice_coef: 0.7066\n",
      "\n",
      "Epoch 00023: val_dice_coef did not improve from 0.86555\n",
      "Epoch 24/30\n",
      "\n",
      "Epoch 00024: LearningRateScheduler setting learning rate to 5.902958103587064e-06.\n",
      "199/199 [==============================] - 119s 597ms/step - loss: 0.2058 - dice_coef: 0.7942 - val_loss: 0.2812 - val_dice_coef: 0.7188\n",
      "\n",
      "Epoch 00024: val_dice_coef did not improve from 0.86555\n",
      "Epoch 25/30\n",
      "\n",
      "Epoch 00025: LearningRateScheduler setting learning rate to 4.722366482869652e-06.\n",
      "199/199 [==============================] - 139s 699ms/step - loss: 0.2117 - dice_coef: 0.7883 - val_loss: 0.2807 - val_dice_coef: 0.7193\n",
      "\n",
      "Epoch 00025: val_dice_coef did not improve from 0.86555\n",
      "Epoch 26/30\n",
      "\n",
      "Epoch 00026: LearningRateScheduler setting learning rate to 3.7778931862957216e-06.\n",
      "199/199 [==============================] - 136s 684ms/step - loss: 0.2452 - dice_coef: 0.7548 - val_loss: 0.2626 - val_dice_coef: 0.7374\n",
      "\n",
      "Epoch 00026: val_dice_coef did not improve from 0.86555\n",
      "Epoch 27/30\n",
      "\n",
      "Epoch 00027: LearningRateScheduler setting learning rate to 3.0223145490365774e-06.\n",
      "199/199 [==============================] - 136s 684ms/step - loss: 0.2431 - dice_coef: 0.7569 - val_loss: 0.2843 - val_dice_coef: 0.7157\n",
      "\n",
      "Epoch 00027: val_dice_coef did not improve from 0.86555\n",
      "Epoch 28/30\n",
      "\n",
      "Epoch 00028: LearningRateScheduler setting learning rate to 2.417851639229262e-06.\n",
      "199/199 [==============================] - 131s 656ms/step - loss: 0.2481 - dice_coef: 0.7519 - val_loss: 0.2582 - val_dice_coef: 0.7418\n",
      "\n",
      "Epoch 00028: val_dice_coef did not improve from 0.86555\n",
      "Epoch 29/30\n",
      "\n",
      "Epoch 00029: LearningRateScheduler setting learning rate to 1.93428131138341e-06.\n"
     ]
    },
    {
     "name": "stdout",
     "output_type": "stream",
     "text": [
      "199/199 [==============================] - 104s 525ms/step - loss: 0.2318 - dice_coef: 0.7682 - val_loss: 0.2032 - val_dice_coef: 0.7968\n",
      "\n",
      "Epoch 00029: val_dice_coef did not improve from 0.86555\n",
      "Epoch 30/30\n",
      "\n",
      "Epoch 00030: LearningRateScheduler setting learning rate to 1.547425049106728e-06.\n",
      "199/199 [==============================] - 169s 847ms/step - loss: 0.2253 - dice_coef: 0.7747 - val_loss: 0.1563 - val_dice_coef: 0.8437\n",
      "\n",
      "Epoch 00030: val_dice_coef did not improve from 0.86555\n"
     ]
    }
   ],
   "source": [
    "model = UNet(numberClass, input_height=Height, input_width=Width)\n",
    "\n",
    "model.compile(optimizer=Adam(2e-4), loss=dice_coef_loss, metrics=[dice_coef])\n",
    "\n",
    "annealer = LearningRateScheduler(lambda x: 1e-3 * 0.8 ** x, verbose=1)\n",
    "\n",
    "plot_model(model, show_shapes=True, to_file='model_unet.png')\n",
    "\n",
    "# model.summary()\n",
    "\n",
    "model_yaml = model.to_yaml()\n",
    "with open(SaveModelName, \"w\") as yaml_file:\n",
    "    yaml_file.write(model_yaml)\n",
    "\n",
    "history=model.fit_generator(TrainGen,\n",
    "                         steps_per_epoch= numberTrainImages//train_batch_size,\n",
    "                         epochs=epochs,\n",
    "                         verbose=1,\n",
    "                         validation_data=TestGen,\n",
    "                         validation_steps=numberTestImages//test_batch_size,\n",
    "                         callbacks=[SavingbestModel, annealer])\n",
    "\n",
    "# history=model.fit_generator(TrainGen,\n",
    "#                          steps_per_epoch= 10,\n",
    "#                          epochs=epochs,\n",
    "#                          verbose=1,\n",
    "#                          validation_data=TestGen,\n",
    "#                          validation_steps=10,\n",
    "#                          callbacks=[SavingbestModel, annealer])\n"
   ]
  },
  {
   "cell_type": "markdown",
   "metadata": {},
   "source": [
    "## Plotting Traing and Validation History"
   ]
  },
  {
   "cell_type": "code",
   "execution_count": 34,
   "metadata": {},
   "outputs": [
    {
     "name": "stderr",
     "output_type": "stream",
     "text": [
      "C:\\Users\\kamru\\Anaconda3\\lib\\site-packages\\matplotlib\\cbook\\deprecation.py:107: MatplotlibDeprecationWarning: Passing one of 'on', 'true', 'off', 'false' as a boolean is deprecated; use an actual boolean (True/False) instead.\n",
      "  warnings.warn(message, mplDeprecation, stacklevel=1)\n"
     ]
    },
    {
     "data": {
      "image/png": "[encoded data removed]",
      "text/plain": [
       "<Figure size 432x288 with 1 Axes>"
      ]
     },
     "metadata": {},
     "output_type": "display_data"
    },
    {
     "data": {
      "image/png": "[encoded data removed]",
      "text/plain": [
       "<Figure size 432x288 with 1 Axes>"
      ]
     },
     "metadata": {},
     "output_type": "display_data"
    }
   ],
   "source": [
    "# Plot training & validation accuracy values\n",
    "plt.plot(history.history['dice_coef'])\n",
    "plt.plot(history.history['val_dice_coef'])\n",
    "plt.title('Model accuracy')\n",
    "plt.ylabel('Accuracy')\n",
    "plt.xlabel('Epoch')\n",
    "plt.legend(['Train', 'Validation'], loc='upper left')\n",
    "plt.grid('on')\n",
    "plt.show()\n",
    "\n",
    "# Plot training & validation loss values\n",
    "plt.plot(history.history['loss'])\n",
    "plt.plot(history.history['val_loss'])\n",
    "plt.title('Model loss')\n",
    "plt.ylabel('Loss')\n",
    "plt.xlabel('Epoch')\n",
    "plt.legend(['Train', 'Validation'], loc='upper left')\n",
    "plt.grid('on')\n",
    "plt.show()"
   ]
  },
  {
   "cell_type": "code",
   "execution_count": null,
   "metadata": {
    "collapsed": true
   },
   "outputs": [],
   "source": []
  }
 ],
 "metadata": {
  "kernelspec": {
   "display_name": "Python 3",
   "language": "python",
   "name": "python3"
  },
  "language_info": {
   "codemirror_mode": {
    "name": "ipython",
    "version": 3
   },
   "file_extension": ".py",
   "mimetype": "text/x-python",
   "name": "python",
   "nbconvert_exporter": "python",
   "pygments_lexer": "ipython3",
   "version": "3.6.3"
  }
 },
 "nbformat": 4,
 "nbformat_minor": 2
}
