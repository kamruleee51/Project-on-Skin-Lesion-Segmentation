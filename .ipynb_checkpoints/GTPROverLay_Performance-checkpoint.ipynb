{
 "cells": [
  {
   "cell_type": "code",
   "execution_count": 6,
   "metadata": {
    "collapsed": true
   },
   "outputs": [],
   "source": [
    "import os,glob,cv2\n",
    "import matplotlib.pyplot as plt\n",
    "import numpy as np\n",
    "from skimage.morphology import disk\n",
    "# %matplotlib inline"
   ]
  },
  {
   "cell_type": "code",
   "execution_count": 7,
   "metadata": {
    "collapsed": true
   },
   "outputs": [],
   "source": [
    "CurrentDirectory=os.getcwd()\n",
    "PR=CurrentDirectory+'/mask/'\n",
    "GTPath=CurrentDirectory+'/Data/TestGT2/'\n",
    "output_path=CurrentDirectory+'/GTPR/'"
   ]
  },
  {
   "cell_type": "code",
   "execution_count": 8,
   "metadata": {
    "collapsed": true
   },
   "outputs": [],
   "source": [
    "OR = glob.glob(PR+\"*.png\")\n",
    "OR.sort()\n",
    "# print(OR)\n",
    "GT = glob.glob(GTPath+\"*.png\")\n",
    "GT.sort()\n",
    "# print(GT)"
   ]
  },
  {
   "cell_type": "code",
   "execution_count": 9,
   "metadata": {
    "collapsed": true
   },
   "outputs": [],
   "source": [
    "def dice(im1, im2, empty_score=1.0):\n",
    "    \"\"\"\n",
    "    Computes the Dice coefficient, a measure of set similarity.\n",
    "    Parameters\n",
    "    ----------\n",
    "    im1 : array-like, bool\n",
    "        Any array of arbitrary size. If not boolean, will be converted.\n",
    "    im2 : array-like, bool\n",
    "        Any other array of identical size. If not boolean, will be converted.\n",
    "    Returns\n",
    "    -------\n",
    "    dice : float\n",
    "        Dice coefficient as a float on range [0,1].\n",
    "        Maximum similarity = 1\n",
    "        No similarity = 0\n",
    "        Both are empty (sum eq to zero) = empty_score\n",
    "        \n",
    "    Notes\n",
    "    -----\n",
    "    The order of inputs for `dice` is irrelevant. The result will be\n",
    "    identical if `im1` and `im2` are switched.\n",
    "    \"\"\"\n",
    "    im1 = np.asarray(im1).astype(np.bool)\n",
    "    im2 = np.asarray(im2).astype(np.bool)\n",
    "\n",
    "    if im1.shape != im2.shape:\n",
    "        raise ValueError(\"Shape mismatch: im1 and im2 must have the same shape.\")\n",
    "\n",
    "    im_sum = im1.sum() + im2.sum()\n",
    "    if im_sum == 0:\n",
    "        return empty_score\n",
    "\n",
    "    # Compute Dice coefficient\n",
    "    intersection = np.logical_and(im1, im2)\n",
    "\n",
    "    return 2. * intersection.sum() / im_sum"
   ]
  },
  {
   "cell_type": "code",
   "execution_count": 10,
   "metadata": {},
   "outputs": [
    {
     "name": "stderr",
     "output_type": "stream",
     "text": [
      "C:\\Users\\kamru\\Anaconda3\\lib\\site-packages\\matplotlib\\pyplot.py:537: RuntimeWarning: More than 20 figures have been opened. Figures created through the pyplot interface (`matplotlib.pyplot.figure`) are retained until explicitly closed and may consume too much memory. (To control this warning, see the rcParam `figure.max_open_warning`).\n",
      "  max_open_warning, RuntimeWarning)\n"
     ]
    },
    {
     "ename": "ValueError",
     "evalue": "Shape mismatch: im1 and im2 must have the same shape.",
     "output_type": "error",
     "traceback": [
      "\u001b[1;31m---------------------------------------------------------------------------\u001b[0m",
      "\u001b[1;31mValueError\u001b[0m                                Traceback (most recent call last)",
      "\u001b[1;32m<ipython-input-10-8696c7a15ebd>\u001b[0m in \u001b[0;36m<module>\u001b[1;34m()\u001b[0m\n\u001b[0;32m     41\u001b[0m     \u001b[0mplt\u001b[0m\u001b[1;33m.\u001b[0m\u001b[0msavefig\u001b[0m\u001b[1;33m(\u001b[0m\u001b[0msaveName\u001b[0m\u001b[1;33m,\u001b[0m \u001b[0mbbox_inches\u001b[0m\u001b[1;33m=\u001b[0m\u001b[1;34m'tight'\u001b[0m\u001b[1;33m)\u001b[0m\u001b[1;33m\u001b[0m\u001b[0m\n\u001b[0;32m     42\u001b[0m     \u001b[0mi\u001b[0m\u001b[1;33m=\u001b[0m\u001b[0mi\u001b[0m\u001b[1;33m+\u001b[0m\u001b[1;36m1\u001b[0m\u001b[1;33m\u001b[0m\u001b[0m\n\u001b[1;32m---> 43\u001b[1;33m     \u001b[0mdd\u001b[0m\u001b[1;33m=\u001b[0m\u001b[0mdice\u001b[0m\u001b[1;33m(\u001b[0m\u001b[0mimOR\u001b[0m\u001b[1;33m,\u001b[0m\u001b[0mimGT\u001b[0m\u001b[1;33m)\u001b[0m\u001b[1;33m\u001b[0m\u001b[0m\n\u001b[0m\u001b[0;32m     44\u001b[0m     \u001b[0mdicee\u001b[0m\u001b[1;33m.\u001b[0m\u001b[0mappend\u001b[0m\u001b[1;33m(\u001b[0m\u001b[0mdd\u001b[0m\u001b[1;33m)\u001b[0m\u001b[1;33m\u001b[0m\u001b[0m\n\u001b[0;32m     45\u001b[0m     \u001b[0mfont\u001b[0m                   \u001b[1;33m=\u001b[0m \u001b[0mcv2\u001b[0m\u001b[1;33m.\u001b[0m\u001b[0mFONT_HERSHEY_SIMPLEX\u001b[0m\u001b[1;33m\u001b[0m\u001b[0m\n",
      "\u001b[1;32m<ipython-input-9-eec7d9ac5a1e>\u001b[0m in \u001b[0;36mdice\u001b[1;34m(im1, im2, empty_score)\u001b[0m\n\u001b[0;32m     25\u001b[0m \u001b[1;33m\u001b[0m\u001b[0m\n\u001b[0;32m     26\u001b[0m     \u001b[1;32mif\u001b[0m \u001b[0mim1\u001b[0m\u001b[1;33m.\u001b[0m\u001b[0mshape\u001b[0m \u001b[1;33m!=\u001b[0m \u001b[0mim2\u001b[0m\u001b[1;33m.\u001b[0m\u001b[0mshape\u001b[0m\u001b[1;33m:\u001b[0m\u001b[1;33m\u001b[0m\u001b[0m\n\u001b[1;32m---> 27\u001b[1;33m         \u001b[1;32mraise\u001b[0m \u001b[0mValueError\u001b[0m\u001b[1;33m(\u001b[0m\u001b[1;34m\"Shape mismatch: im1 and im2 must have the same shape.\"\u001b[0m\u001b[1;33m)\u001b[0m\u001b[1;33m\u001b[0m\u001b[0m\n\u001b[0m\u001b[0;32m     28\u001b[0m \u001b[1;33m\u001b[0m\u001b[0m\n\u001b[0;32m     29\u001b[0m     \u001b[0mim_sum\u001b[0m \u001b[1;33m=\u001b[0m \u001b[0mim1\u001b[0m\u001b[1;33m.\u001b[0m\u001b[0msum\u001b[0m\u001b[1;33m(\u001b[0m\u001b[1;33m)\u001b[0m \u001b[1;33m+\u001b[0m \u001b[0mim2\u001b[0m\u001b[1;33m.\u001b[0m\u001b[0msum\u001b[0m\u001b[1;33m(\u001b[0m\u001b[1;33m)\u001b[0m\u001b[1;33m\u001b[0m\u001b[0m\n",
      "\u001b[1;31mValueError\u001b[0m: Shape mismatch: im1 and im2 must have the same shape."
     ]
    }
   ],
   "source": [
    "# Total Number of images should be same as the total number of segmented Mask\n",
    "dicee=[]\n",
    "assert len(OR) == len(GT) \n",
    "kernel=disk(10)\n",
    "i=5000\n",
    "# Checking that every image has their corresponding segmented mask.\n",
    "for im , seg in zip(OR,GT):\n",
    "    \n",
    "    Image, _ = os.path.splitext(im)\n",
    "    GT,_     = os.path.splitext(seg)\n",
    "    \n",
    "    assert(Image[-4:]   ==  GT[-4:]  )\n",
    "    \n",
    "    imOR=cv2.imread(im,0)\n",
    "\n",
    "    imOR = cv2.resize(imOR, (320, 320)) \n",
    "#     imOR = cv2.dilate(imOR,kernel,iterations = 1)\n",
    "    \n",
    "    \n",
    "    \n",
    "\n",
    "    \n",
    "    imGT=cv2.imread(seg,0)\n",
    "\n",
    "    imGT = cv2.resize(imGT, (320, 320)) \n",
    "\n",
    "    tttt=cv2.merge((imOR,imOR,imOR))\n",
    "    tttt[:,:,0]=0\n",
    "    tttt[:,:,2]=0\n",
    "\n",
    "#     outName=output_path+str(i)+'.png'\n",
    "#     overlay = cv2.addWeighted(tttt,0.2,imOR,0.8,0)\n",
    "#     cv2.imwrite(  outName , overlay )\n",
    "\n",
    "    plt.figure()\n",
    "    plt.imshow(imGT, 'gray', interpolation='none')\n",
    "    plt.imshow(tttt, 'jet', interpolation='none', alpha=0.3)\n",
    "    plt.xticks([])\n",
    "    plt.yticks([])\n",
    "    saveName=output_path+'OverLay_'+str(i)+'.png'\n",
    "    plt.savefig(saveName, bbox_inches='tight')\n",
    "    i=i+1\n",
    "    dd=dice(imOR,imGT)\n",
    "    dicee.append(dd)\n",
    "    font                   = cv2.FONT_HERSHEY_SIMPLEX\n",
    "    bottomLeftCornerOfText = (5,50)\n",
    "    fontScale              = 1\n",
    "    fontColor              = (0,0,255)\n",
    "    lineType               = 2\n",
    "\n",
    "    img=cv2.imread(saveName,-1)\n",
    "    cv2.putText(img,str(dd), \n",
    "        bottomLeftCornerOfText, \n",
    "        font, \n",
    "        fontScale,\n",
    "        fontColor,\n",
    "        lineType)\n",
    "    saveName2=output_path+'OverLay_'+str(i)+'.jpg'\n",
    "    cv2.imwrite(saveName2,img)\n"
   ]
  },
  {
   "cell_type": "code",
   "execution_count": null,
   "metadata": {},
   "outputs": [],
   "source": [
    "print(\"DSC = %0.4f (+/-%0.04f)\" % (np.mean(dicee)*100, np.std(dicee)*100))"
   ]
  },
  {
   "cell_type": "code",
   "execution_count": null,
   "metadata": {
    "collapsed": true
   },
   "outputs": [],
   "source": []
  }
 ],
 "metadata": {
  "kernelspec": {
   "display_name": "Python 3",
   "language": "python",
   "name": "python3"
  }
 },
 "nbformat": 4,
 "nbformat_minor": 2
}
