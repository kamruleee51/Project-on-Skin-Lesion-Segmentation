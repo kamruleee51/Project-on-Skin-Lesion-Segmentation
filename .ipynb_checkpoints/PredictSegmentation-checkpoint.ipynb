{
 "cells": [
  {
   "cell_type": "markdown",
   "metadata": {},
   "source": [
    "## Import all the required packages and library "
   ]
  },
  {
   "cell_type": "code",
   "execution_count": 7,
   "metadata": {},
   "outputs": [],
   "source": [
    "import numpy as np\n",
    "import os\n",
    "import cv2\n",
    "import glob\n",
    "import itertools\n",
    "import glob\n",
    "import random\n",
    "import matplotlib.pyplot as plt\n",
    "from keras.models import *\n",
    "from keras.layers import *\n",
    "from keras.callbacks import EarlyStopping\n",
    "from keras.callbacks import ModelCheckpoint\n",
    "from keras.models import model_from_yaml\n",
    "from skimage.measure import label, regionprops\n",
    "from keras.applications.vgg16 import preprocess_input"
   ]
  },
  {
   "cell_type": "markdown",
   "metadata": {},
   "source": [
    "## Pre-process the surgical tool images to fit to the Network "
   ]
  },
  {
   "cell_type": "code",
   "execution_count": 8,
   "metadata": {
    "collapsed": true
   },
   "outputs": [],
   "source": [
    "def getImage(ImagePath, Width, Height):\n",
    "    \n",
    "    if ImagePath is not None:\n",
    "        img = cv2.imread(ImagePath, 1)\n",
    "        img = cv2.resize(img, ( Width , Height ))\n",
    "        img = img.astype(np.float32)\n",
    "        \n",
    "#         vgg = preprocess_input(img)\n",
    "        hsv = cv2.cvtColor(img, cv2.COLOR_BGR2HSV)\n",
    "        L,A,B= cv2.split(cv2.cvtColor(img, cv2.COLOR_BGR2LAB))\n",
    "        \n",
    "        img_merge= np.dstack((img, hsv, L))\n",
    "        \n",
    "#         img_merge = np.rollaxis(img_merge, 2, 0)\n",
    "        \n",
    "        return img_merge"
   ]
  },
  {
   "cell_type": "markdown",
   "metadata": {},
   "source": [
    "## Load the Train and Test image Directory"
   ]
  },
  {
   "cell_type": "code",
   "execution_count": 9,
   "metadata": {
    "collapsed": true
   },
   "outputs": [],
   "source": [
    "CurrentDirectory=os.getcwd()\n",
    "TestImagePath=CurrentDirectory+'/data/TestImage2/'\n",
    "TestSegImagePath=CurrentDirectory+'/data/TestGT2/'"
   ]
  },
  {
   "cell_type": "markdown",
   "metadata": {},
   "source": [
    "## Load model and weight"
   ]
  },
  {
   "cell_type": "code",
   "execution_count": 10,
   "metadata": {
    "collapsed": true
   },
   "outputs": [],
   "source": [
    "# Load Model and weight\n",
    "modelName=CurrentDirectory+'/SavedModel/VGGUnetModel.yaml'\n",
    "modelweight=CurrentDirectory+'/SavedModel/VGGUnetModel.hdf5'\n",
    "\n",
    "model = open(modelName, 'r')\n",
    "segModel= model.read()\n",
    "model.close()\n",
    "\n",
    "segModel = model_from_yaml(segModel)\n",
    "segModel.load_weights(modelweight)\n",
    "# segModel.summary()"
   ]
  },
  {
   "cell_type": "markdown",
   "metadata": {},
   "source": [
    "## Read the test Images "
   ]
  },
  {
   "cell_type": "code",
   "execution_count": null,
   "metadata": {
    "collapsed": true
   },
   "outputs": [],
   "source": [
    "images = glob.glob(TestImagePath+\"*.jpg\")+glob.glob(TestImagePath+\"*.png\")+glob.glob(TestImagePath+\"*.jpeg\")\n",
    "images.sort()\n",
    "output_path=CurrentDirectory+'/overlay/'\n",
    "output_path_masked=CurrentDirectory+'/mask/'\n",
    "n_classes=2"
   ]
  },
  {
   "cell_type": "markdown",
   "metadata": {},
   "source": [
    "## Prediction"
   ]
  },
  {
   "cell_type": "code",
   "execution_count": null,
   "metadata": {},
   "outputs": [],
   "source": [
    "i=5000\n",
    "for imgName in images:\n",
    "#     print(imgName)\n",
    "    image=cv2.imread(imgName,1)\n",
    "    r,c,ch=image.shape\n",
    "#     print(str(r)   +\"   \"+  str(c))\n",
    "\n",
    "    outName = output_path+str(i)+'.png'\n",
    "    outName_Masked = output_path_masked+str(i)+'.png'\n",
    "    \n",
    "    X = getImage(imgName, 320, 320)\n",
    "    pr = segModel.predict( np.array([X]) )[0]\n",
    "    pr = (pr.reshape(( 320 ,  320 , 2 ) ).argmax( axis=2 )).astype('uint8')\n",
    "    seg_img = (255*((cv2.resize(pr, (c , r )))/pr.max())).astype(np.uint8)\n",
    "    \n",
    "    temp=seg_img\n",
    "    \n",
    "#     label_img = label(seg_img.astype(np.uint8))\n",
    "#     regions = regionprops(label_img)\n",
    "#     Area=[]\n",
    "#     for region in range(len(regions)):\n",
    "#         maxThreshold = (regions[region].area);\n",
    "#         Area.append(maxThreshold)\n",
    "#     index=np.argmax(Area,axis=0)\n",
    "#     seg_img[label_img!=(index+1)]=0;\n",
    "    \n",
    "    seg_img = cv2.merge((seg_img,seg_img,seg_img))\n",
    "    seg_img = seg_img.astype(np.uint8)\n",
    "    seg_img[:,:,0]=0\n",
    "    seg_img[:,:,2]=0\n",
    "    \n",
    "    overlay = cv2.addWeighted(seg_img,0.3,image,0.7,0)\n",
    "    cv2.imwrite(  outName , overlay )\n",
    "    cv2.imwrite(  outName_Masked , temp.astype(np.uint8) )\n",
    "    i=i+1"
   ]
  },
  {
   "cell_type": "code",
   "execution_count": null,
   "metadata": {
    "collapsed": true
   },
   "outputs": [],
   "source": []
  }
 ],
 "metadata": {
  "kernelspec": {
   "display_name": "Python 3",
   "language": "python",
   "name": "python3"
  },
  "language_info": {
   "codemirror_mode": {
    "name": "ipython",
    "version": 3
   },
   "file_extension": ".py",
   "mimetype": "text/x-python",
   "name": "python",
   "nbconvert_exporter": "python",
   "pygments_lexer": "ipython3",
   "version": "3.6.3"
  }
 },
 "nbformat": 4,
 "nbformat_minor": 2
}
