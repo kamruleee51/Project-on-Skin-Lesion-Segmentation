{
 "cells": [
  {
   "cell_type": "code",
   "execution_count": 1,
   "metadata": {},
   "outputs": [
    {
     "name": "stdout",
     "output_type": "stream",
     "text": [
      "\n",
      "Created on Fri Aug 17 14:37:39 2018\n",
      "@author: Md. Kamrul Hasan\n",
      "\n",
      "Modified on 11 Feb. 2019\n",
      "\n"
     ]
    }
   ],
   "source": [
    "# -*- coding: utf-8 -*-\n",
    "\"\"\"\n",
    "Created on Fri Aug 17 14:37:39 2018\n",
    "@author: Md. Kamrul Hasan\n",
    "\n",
    "Modified on 11 Feb. 2019\n",
    "\"\"\"\n",
    "print(__doc__)\n",
    "import time\n",
    "startTime = time.time()\n",
    "import cv2\n",
    "import glob\n",
    "import os\n",
    "import numpy as np\n",
    "from skimage.morphology import disk\n",
    "import matplotlib.pyplot as plt\n",
    "from sklearn.metrics import confusion_matrix\n",
    "from sklearn.metrics import roc_curve, auc\n",
    "from sklearn.metrics import jaccard_similarity_score\n",
    "import matplotlib.pyplot as plt\n",
    "#import libraries\n",
    "import progressbar as pb"
   ]
  },
  {
   "cell_type": "code",
   "execution_count": 2,
   "metadata": {
    "collapsed": true
   },
   "outputs": [],
   "source": [
    "CurrentDirectory=os.getcwd()\n",
    "\n",
    "segmentedPath=CurrentDirectory+'/mask'\n",
    "SegmentedImage=sorted(glob.glob(segmentedPath+\"/*.png\"))\n",
    "\n",
    "GroundTruthPath=CurrentDirectory+'/FINAL_V2/TestGT'\n",
    "GroundTruthImage=sorted(glob.glob(GroundTruthPath+\"/*.png\"))\n",
    "\n",
    "assert len(SegmentedImage) == len(GroundTruthImage) \n",
    "\n",
    "for Predicted , GroundTruth in zip(SegmentedImage, GroundTruthImage):\n",
    "    assert(  Predicted.split('/')[-1].split(\".\")[0] ==  GroundTruth.split('/')[-1].split(\".\")[0] )"
   ]
  },
  {
   "cell_type": "code",
   "execution_count": 3,
   "metadata": {},
   "outputs": [
    {
     "name": "stdout",
     "output_type": "stream",
     "text": [
      "/home/bokoo/Desktop/MKH/SurgicalToolSegmentation/FINAL_V2/TestGT/445.png\n",
      "/home/bokoo/Desktop/MKH/SurgicalToolSegmentation/mask/445.png\n"
     ]
    }
   ],
   "source": [
    "print(GroundTruthImage[121])\n",
    "print(SegmentedImage[121])"
   ]
  },
  {
   "cell_type": "code",
   "execution_count": 4,
   "metadata": {
    "collapsed": true
   },
   "outputs": [],
   "source": [
    "def compute_iou(y_pred, y_true):\n",
    "    # ytrue, ypred is a flatten vector\n",
    "    y_pred = y_pred.flatten()\n",
    "    y_true = y_true.flatten()\n",
    "    cm= confusion_matrix(y_true, y_pred, labels=[0, 1]) # cm means confusion Matrix\n",
    "     # compute mean iou\n",
    "    intersection = np.diag(cm)\n",
    "    ground_truth_set = cm.sum(axis=1)\n",
    "    predicted_set = cm.sum(axis=0)\n",
    "    union = ground_truth_set + predicted_set - intersection\n",
    "    IoU = intersection / union.astype(np.float32)\n",
    "    return np.mean(IoU), cm"
   ]
  },
  {
   "cell_type": "code",
   "execution_count": 5,
   "metadata": {
    "collapsed": true
   },
   "outputs": [],
   "source": [
    "def tanimoto(Truelabel, Predictedlabel):\n",
    "    tA=0\n",
    "    tB=0\n",
    "    tAB=0\n",
    "    for i in range(len(Truelabel)):\n",
    "        if Truelabel[i]==Predictedlabel[i]:\n",
    "            tAB=tAB+1\n",
    "        elif Truelabel[i]>Predictedlabel[i]:\n",
    "            tA=tA+1\n",
    "        else:\n",
    "              tB=tB+1\n",
    "    Tanimoto=(tAB)/(tA+tB+tAB)\n",
    "    return Tanimoto"
   ]
  },
  {
   "cell_type": "code",
   "execution_count": 6,
   "metadata": {
    "collapsed": true
   },
   "outputs": [],
   "source": [
    "IU=[]\n",
    "Sensitivity=[]\n",
    "Specificity=[]\n",
    "Accuracy=[]\n",
    "BalancedAccuracy=[]\n",
    "ROC_AUC=[]\n",
    "F1Score=[]\n",
    "Tanimoto=[]\n",
    "TotalTP=[]\n",
    "TotalTN=[]\n",
    "TotalFP=[]\n",
    "TotalFN=[]"
   ]
  },
  {
   "cell_type": "code",
   "execution_count": 7,
   "metadata": {},
   "outputs": [
    {
     "name": "stderr",
     "output_type": "stream",
     "text": [
      "ProgressBar: 100% ||||||||||||||||||||||||||||||||||||||||||||||| Time: 0:14:12\n"
     ]
    }
   ],
   "source": [
    "#initialize widgets\n",
    "widgets = ['ProgressBar: ', pb.Percentage(), ' ', \n",
    "            pb.Bar(marker=pb.RotatingMarker()), ' ', pb.ETA()]\n",
    "#initialize timer\n",
    "timer = pb.ProgressBar(widgets=widgets, maxval=180).start()\n",
    "\n",
    "\n",
    "for i in range (len(SegmentedImage)):\n",
    "    \n",
    "    im=cv2.imread(SegmentedImage[i],0)\n",
    "    ret,im = cv2.threshold(im,250,255,cv2.THRESH_BINARY)\n",
    "    im=im/im.max()\n",
    "    Predicted=np.array(im).ravel()\n",
    "    \n",
    "    GT=cv2.imread(GroundTruthImage[i],0)\n",
    "    ret,GT = cv2.threshold(GT,250,255,cv2.THRESH_BINARY)\n",
    "    GT=GT/GT.max()\n",
    "    GroundTruth=np.array(GT).ravel()\n",
    "    \n",
    "    IoU, ConfusionMatrix=compute_iou(Predicted,GroundTruth)\n",
    "    \n",
    "    IU.append(IoU)\n",
    "    \n",
    "    TN = ConfusionMatrix[0][0]\n",
    "    FP = ConfusionMatrix[0][1]\n",
    "    FN = ConfusionMatrix[1][0]\n",
    "    TP = ConfusionMatrix[1][1]\n",
    "    \n",
    "    TotalTP.append(TP)\n",
    "    TotalTN.append(TN)\n",
    "    TotalFP.append(FP)\n",
    "    TotalFN.append(FN)\n",
    "    \n",
    "    temp_Sensitivity=(TP/(TP+FN))\n",
    "    Sensitivity.append(temp_Sensitivity)\n",
    "    \n",
    "    temp_Specificity=(TN/(FP+TN))\n",
    "    Specificity.append(temp_Specificity)\n",
    "    \n",
    "    temp_Accuracy=((TP+TN)/(TP+TN+FP+FN))\n",
    "    Accuracy.append(temp_Accuracy)\n",
    "    \n",
    "    temp_BalancedAccuracy=(temp_Sensitivity+temp_Specificity)/2\n",
    "    BalancedAccuracy.append(temp_BalancedAccuracy)\n",
    "    \n",
    "    fpr, tpr, thresholds =roc_curve(GroundTruth, Predicted)\n",
    "    roc_auc = auc(fpr, tpr)\n",
    "    ROC_AUC.append(roc_auc)\n",
    "    \n",
    "    F1=(2*TP)/(2*TP+FP+FN)\n",
    "    F1Score.append(F1)\n",
    "    \n",
    "    Tanimoto_coefficient=tanimoto(GroundTruth, Predicted)\n",
    "    Tanimoto.append(Tanimoto_coefficient)\n",
    "    \n",
    "    timer.update(i)\n",
    "timer.finish()\n"
   ]
  },
  {
   "cell_type": "code",
   "execution_count": 8,
   "metadata": {},
   "outputs": [
    {
     "name": "stdout",
     "output_type": "stream",
     "text": [
      "Intersection over Union = 86.3691 (+/-8.9067)\n",
      "Sensitivity = 86.3092 (+/-12.9310)\n",
      "Specificity = 98.2592 (+/-3.1901)\n",
      "Accuracy = 97.12608988 (+/-3.4546)\n",
      "Balanced Accuracy = 92.2842 (+/-7.0314)\n",
      "AUC = 92.2842 (+/-7.0314)\n",
      "DSC = 85.3226 (+/-11.9216)\n",
      "Tanimoto = 97.1261 (+/-3.4546)\n",
      "TP= 121406 (+/-99057.5461)\n",
      "TN= 1245721 (+/-745357.2933)\n",
      "FP= 18857 (+/-49657.5429)\n",
      "FN= 18259 (+/-24271.3681)\n"
     ]
    }
   ],
   "source": [
    "print(\"Intersection over Union = %0.4f (+/-%0.04f)\" % (np.mean(IU)*100, np.std(IU)*100))\n",
    "print(\"Sensitivity = %0.4f (+/-%0.04f)\" % (np.mean(Sensitivity)*100, np.std(Sensitivity)*100))\n",
    "print(\"Specificity = %0.4f (+/-%0.04f)\" % (np.mean(Specificity)*100, np.std(Specificity)*100))\n",
    "print(\"Accuracy = %0.8f (+/-%0.04f)\" % (np.mean(Accuracy)*100, np.std(Accuracy)*100))\n",
    "print(\"Balanced Accuracy = %0.4f (+/-%0.04f)\" % (np.mean(BalancedAccuracy)*100, np.std(BalancedAccuracy)*100))\n",
    "print(\"AUC = %0.4f (+/-%0.04f)\" % (np.mean(ROC_AUC)*100, np.std(ROC_AUC)*100))\n",
    "print(\"DSC = %0.4f (+/-%0.04f)\" % (np.mean(F1Score)*100, np.std(F1Score)*100))\n",
    "print(\"Tanimoto = %0.4f (+/-%0.04f)\" % (np.mean(Tanimoto)*100, np.std(Tanimoto)*100))\n",
    "print('TP= %d (+/-%0.04f)'%(np.mean(TotalTP),np.std(TotalTP)))\n",
    "print('TN= %d (+/-%0.04f)'%(np.mean(TotalTN),np.std(TotalTN)))\n",
    "print('FP= %d (+/-%0.04f)'%(np.mean(TotalFP),np.std(TotalFP)))\n",
    "print('FN= %d (+/-%0.04f)'%(np.mean(TotalFN),np.std(TotalFN)))"
   ]
  },
  {
   "cell_type": "code",
   "execution_count": null,
   "metadata": {
    "collapsed": true
   },
   "outputs": [],
   "source": []
  }
 ],
 "metadata": {
  "kernelspec": {
   "display_name": "Python 3",
   "language": "python",
   "name": "python3"
  },
  "language_info": {
   "codemirror_mode": {
    "name": "ipython",
    "version": 3
   },
   "file_extension": ".py",
   "mimetype": "text/x-python",
   "name": "python",
   "nbconvert_exporter": "python",
   "pygments_lexer": "ipython3",
   "version": "3.6.3"
  }
 },
 "nbformat": 4,
 "nbformat_minor": 2
}
